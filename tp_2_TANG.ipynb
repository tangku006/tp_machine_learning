{
 "cells": [
  {
   "cell_type": "markdown",
   "metadata": {},
   "source": [
    "# TP 2 of Machine Learning"
   ]
  },
  {
   "cell_type": "markdown",
   "metadata": {},
   "source": [
    "## import classes"
   ]
  },
  {
   "cell_type": "code",
   "execution_count": 1,
   "metadata": {
    "collapsed": false
   },
   "outputs": [],
   "source": [
    "import numpy as np\n",
    "from sklearn.base import BaseEstimator, ClassifierMixin\n",
    "from sklearn import datasets, linear_model\n",
    "from sklearn.metrics import accuracy_score\n",
    "from sklearn.model_selection import *\n",
    "from sklearn.svm import SVC"
   ]
  },
  {
   "cell_type": "markdown",
   "metadata": {},
   "source": [
    "## load a dataset"
   ]
  },
  {
   "cell_type": "code",
   "execution_count": 2,
   "metadata": {
    "collapsed": true
   },
   "outputs": [],
   "source": [
    "iris = datasets.load_iris()\n",
    "iris_X = iris.data\n",
    "iris_y = iris.target"
   ]
  },
  {
   "cell_type": "code",
   "execution_count": 3,
   "metadata": {
    "collapsed": false
   },
   "outputs": [],
   "source": [
    "np.random.seed(30)\n",
    "indices = np.random.permutation(len(iris_X))\n",
    "iris_X_train = iris_X[indices[:-10]]\n",
    "iris_y_train = iris_y[indices[:-10]]\n",
    "iris_X_test  = iris_X[indices[-10:]]\n",
    "iris_y_test  = iris_y[indices[-10:]]"
   ]
  },
  {
   "cell_type": "code",
   "execution_count": 4,
   "metadata": {
    "collapsed": true
   },
   "outputs": [],
   "source": [
    "# digits = datasets.load_digits()\n",
    "# digits_X = digits.data\n",
    "# digits_y = digits.target\n",
    "# print(digits_X.shape)\n",
    "# print(digits_y.shape)\n",
    "# print(digits_X)\n",
    "# print(digits_y)"
   ]
  },
  {
   "cell_type": "markdown",
   "metadata": {},
   "source": [
    "## define a new classifier"
   ]
  },
  {
   "cell_type": "code",
   "execution_count": 5,
   "metadata": {
    "collapsed": false
   },
   "outputs": [],
   "source": [
    "class MajorityClassifier(BaseEstimator, ClassifierMixin):\n",
    "    \n",
    "    def __init__ (self):\n",
    "        \n",
    "        self.label_value = None\n",
    "        self.label_array = np.array([])\n",
    " \n",
    "    def fit(self, X, y):\n",
    "        \n",
    "        dict = {}\n",
    "        max  = 0     \n",
    "        for i in y:\n",
    "            if dict.__contains__(i) :\n",
    "                dict[i] += 1\n",
    "            else :\n",
    "                dict[i] = 1\n",
    "        \n",
    "        for k in dict.keys() :\n",
    "            if max < dict[k]:\n",
    "                self.label_value = k\n",
    "                max = dict[k]     \n",
    "\n",
    "        return self\n",
    "    \n",
    "    def predict(self, X):\n",
    "        \n",
    "        k_list = []\n",
    "        for i in range(len(X)) :\n",
    "            k_list.append(self.label_value)\n",
    "            \n",
    "        self.label_array = np.array(k_list)\n",
    "        return self.label_array"
   ]
  },
  {
   "cell_type": "markdown",
   "metadata": {},
   "source": [
    "## Evaluation"
   ]
  },
  {
   "cell_type": "markdown",
   "metadata": {},
   "source": [
    "##### The accuracy"
   ]
  },
  {
   "cell_type": "code",
   "execution_count": 6,
   "metadata": {
    "collapsed": false
   },
   "outputs": [
    {
     "name": "stdout",
     "output_type": "stream",
     "text": [
      "predict array: [1 1 1 1 1 1 1 1 1 1]\n",
      "actual array : [0 1 2 0 2 1 2 2 0 0]\n",
      "0.2\n",
      "The error of the classifier: 0.8\n"
     ]
    }
   ],
   "source": [
    "mc = MajorityClassifier()\n",
    "mc.fit(iris_X_train, iris_y_train)\n",
    "print(\"predict array:\" , mc.predict(iris_X_test))\n",
    "print(\"actual array :\", iris_y_test)\n",
    "print(accuracy_score( iris_y_test, mc.predict( iris_X_test )))\n",
    "print(\"The error of the classifier:\", 1 - accuracy_score( iris_y_test, mc.predict( iris_X_test )))"
   ]
  },
  {
   "cell_type": "markdown",
   "metadata": {},
   "source": [
    "##### Cross-validation"
   ]
  },
  {
   "cell_type": "code",
   "execution_count": 7,
   "metadata": {
    "collapsed": false
   },
   "outputs": [
    {
     "name": "stdout",
     "output_type": "stream",
     "text": [
      "the majority cross-validation:\n",
      "[ 0.33333333  0.33333333  0.33333333  0.33333333  0.33333333  0.33333333\n",
      "  0.33333333  0.33333333  0.33333333  0.33333333  0.33333333  0.33333333\n",
      "  0.33333333  0.33333333  0.33333333  0.33333333  0.33333333  0.33333333\n",
      "  0.33333333  0.33333333]\n",
      "the average accuracy: 0.333333333333\n"
     ]
    }
   ],
   "source": [
    "# the majority classifier\n",
    "scores_mc = cross_val_score(mc, iris_X, iris_y, cv=20, scoring='accuracy')\n",
    "print(\"the majority cross-validation:\")\n",
    "print(scores_mc)\n",
    "print(\"the average accuracy:\", scores_mc.mean())"
   ]
  },
  {
   "cell_type": "markdown",
   "metadata": {
    "collapsed": true
   },
   "source": [
    "##### Justification:\n",
    "##### The new classifier is meant to use the value the most frequent. So, there is a high possibility to choose the right \n",
    "##### answer and that is why the new classifier are correct in some situation. In the dataset of Iris, every kind of \n",
    "##### flower have one-third possibility of being selected, as is shown in the average accuracy."
   ]
  },
  {
   "cell_type": "markdown",
   "metadata": {},
   "source": [
    "## Classifier with higher performance"
   ]
  },
  {
   "cell_type": "code",
   "execution_count": 8,
   "metadata": {
    "collapsed": false
   },
   "outputs": [
    {
     "name": "stdout",
     "output_type": "stream",
     "text": [
      "predict array: [0 1 2 0 2 1 2 2 0 0]\n",
      "actual array : [0 1 2 0 2 1 2 2 0 0]\n",
      "1.0\n",
      "The error of the classifier: 0.8\n"
     ]
    }
   ],
   "source": [
    "svc = SVC()\n",
    "svc.fit(iris_X_train, iris_y_train)\n",
    "print(\"predict array:\" , svc.predict(iris_X_test))\n",
    "print(\"actual array :\", iris_y_test)\n",
    "print(accuracy_score( iris_y_test, svc.predict( iris_X_test )))\n",
    "print(\"The error of the classifier:\", 1 - accuracy_score( iris_y_test, mc.predict( iris_X_test )))"
   ]
  },
  {
   "cell_type": "markdown",
   "metadata": {},
   "source": [
    "##### Cross-validation"
   ]
  },
  {
   "cell_type": "code",
   "execution_count": 9,
   "metadata": {
    "collapsed": false
   },
   "outputs": [
    {
     "name": "stdout",
     "output_type": "stream",
     "text": [
      "the majority cross-validation:\n",
      "[ 1.          1.          0.88888889  1.          1.          1.\n",
      "  0.88888889  1.          1.          0.88888889  1.          0.83333333\n",
      "  1.          1.          1.          1.          1.          1.          1.\n",
      "  1.        ]\n",
      "the average accuracy: 0.975\n"
     ]
    }
   ],
   "source": [
    "# the majority classifier\n",
    "scores_svc = cross_val_score(svc, iris_X, iris_y, cv=20, scoring='accuracy')\n",
    "print(\"the majority cross-validation:\")\n",
    "print(scores_svc)\n",
    "print(\"the average accuracy:\", scores_svc.mean())"
   ]
  },
  {
   "cell_type": "markdown",
   "metadata": {},
   "source": [
    "##### Compared with majority classifier, the Support Vector Machine is much more better."
   ]
  },
  {
   "cell_type": "code",
   "execution_count": null,
   "metadata": {
    "collapsed": true
   },
   "outputs": [],
   "source": []
  }
 ],
 "metadata": {
  "kernelspec": {
   "display_name": "Python 3",
   "language": "python",
   "name": "python3"
  },
  "language_info": {
   "codemirror_mode": {
    "name": "ipython",
    "version": 3
   },
   "file_extension": ".py",
   "mimetype": "text/x-python",
   "name": "python",
   "nbconvert_exporter": "python",
   "pygments_lexer": "ipython3",
   "version": "3.6.0"
  }
 },
 "nbformat": 4,
 "nbformat_minor": 2
}
