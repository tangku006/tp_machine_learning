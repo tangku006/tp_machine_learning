{
 "cells": [
  {
   "cell_type": "markdown",
   "metadata": {},
   "source": [
    "# TP 1 of Machine Learning"
   ]
  },
  {
   "cell_type": "markdown",
   "metadata": {},
   "source": [
    "## import classes"
   ]
  },
  {
   "cell_type": "code",
   "execution_count": 1,
   "metadata": {
    "collapsed": true
   },
   "outputs": [],
   "source": [
    "import numpy as np\n",
    "from sklearn import datasets"
   ]
  },
  {
   "cell_type": "markdown",
   "metadata": {},
   "source": [
    "## load and parse the data file"
   ]
  },
  {
   "cell_type": "code",
   "execution_count": 2,
   "metadata": {
    "collapsed": false
   },
   "outputs": [
    {
     "data": {
      "text/plain": [
       "array([0, 1, 2])"
      ]
     },
     "execution_count": 2,
     "metadata": {},
     "output_type": "execute_result"
    }
   ],
   "source": [
    "iris = datasets.load_iris()\n",
    "iris_X = iris.data\n",
    "iris_y = iris.target\n",
    "np.unique(iris_y)\n"
   ]
  },
  {
   "cell_type": "markdown",
   "metadata": {},
   "source": [
    "## split the data into training and test sets"
   ]
  },
  {
   "cell_type": "code",
   "execution_count": 3,
   "metadata": {
    "collapsed": false
   },
   "outputs": [],
   "source": [
    "np.random.seed(0)\n",
    "indices = np.random.permutation(len(iris_X))\n",
    "iris_X_train = iris_X[indices[:-10]]\n",
    "iris_y_train = iris_y[indices[:-10]]\n",
    "iris_X_test  = iris_X[indices[-10:]]\n",
    "iris_y_test  = iris_y[indices[-10:]]"
   ]
  },
  {
   "cell_type": "markdown",
   "metadata": {},
   "source": [
    "## k-nearest-neighbor model"
   ]
  },
  {
   "cell_type": "code",
   "execution_count": 25,
   "metadata": {
    "collapsed": false
   },
   "outputs": [
    {
     "name": "stdout",
     "output_type": "stream",
     "text": [
      "predict array: [1 2 1 0 0 0 2 1 2 0]\n",
      "actual array:  [1 1 1 0 0 0 2 1 2 0]\n",
      "0.9\n"
     ]
    }
   ],
   "source": [
    "from sklearn.neighbors import KNeighborsClassifier\n",
    "from sklearn.metrics import accuracy_score\n",
    "\n",
    "knn = KNeighborsClassifier()\n",
    "knn.fit(iris_X_train,iris_y_train)\n",
    "print(\"predict array:\", knn.predict(iris_X_test))\n",
    "print(\"actual array: \", iris_y_test)\n",
    "print(accuracy_score( iris_y_test, knn.predict( iris_X_test )))"
   ]
  },
  {
   "cell_type": "markdown",
   "metadata": {},
   "source": [
    "## Question 1"
   ]
  },
  {
   "cell_type": "markdown",
   "metadata": {},
   "source": [
    "### the error by default"
   ]
  },
  {
   "cell_type": "code",
   "execution_count": 12,
   "metadata": {
    "collapsed": false
   },
   "outputs": [
    {
     "name": "stdout",
     "output_type": "stream",
     "text": [
      "The error of the classifier: 0.1\n"
     ]
    }
   ],
   "source": [
    "error = 1-accuracy_score( iris_y_test, knn.predict( iris_X_test ))\n",
    "print(\"The error of the classifier:\", error)"
   ]
  },
  {
   "cell_type": "markdown",
   "metadata": {},
   "source": [
    "### the optimal parametre k"
   ]
  },
  {
   "cell_type": "code",
   "execution_count": 47,
   "metadata": {
    "collapsed": false
   },
   "outputs": [
    {
     "data": {
      "image/png": "[encoded data removed]",
      "text/plain": [
       "<matplotlib.figure.Figure at 0x20291181e10>"
      ]
     },
     "metadata": {},
     "output_type": "display_data"
    }
   ],
   "source": [
    "import matplotlib.pyplot as plt\n",
    "\n",
    "k_range = range(1, 31)\n",
    "\n",
    "k_scores = []\n",
    "\n",
    "for k in k_range:\n",
    "    knn = KNeighborsClassifier(n_neighbors=k)\n",
    "    scores = cross_val_score(knn, iris_X, iris_y, cv=12, scoring='accuracy')\n",
    "    k_scores.append(scores.mean())\n",
    "    \n",
    "plt.plot(k_range, k_scores)\n",
    "plt.xlabel('value of K for KNN')\n",
    "plt.ylabel('Cross-Validated Accuracy')\n",
    "plt.show()"
   ]
  },
  {
   "cell_type": "markdown",
   "metadata": {},
   "source": [
    "##### so we can find the optimal k is about 12 based on the  accuracy"
   ]
  },
  {
   "cell_type": "markdown",
   "metadata": {},
   "source": [
    "## Question 2"
   ]
  },
  {
   "cell_type": "markdown",
   "metadata": {},
   "source": [
    "### Classifiers"
   ]
  },
  {
   "cell_type": "markdown",
   "metadata": {},
   "source": [
    "##### 1.GaussianNB"
   ]
  },
  {
   "cell_type": "code",
   "execution_count": 49,
   "metadata": {
    "collapsed": false
   },
   "outputs": [
    {
     "name": "stdout",
     "output_type": "stream",
     "text": [
      "predict array: [1 2 1 0 0 0 2 1 2 0]\n",
      "actual array:  [1 1 1 0 0 0 2 1 2 0]\n",
      "0.9\n"
     ]
    }
   ],
   "source": [
    "from sklearn.naive_bayes import GaussianNB\n",
    "gnb = GaussianNB()\n",
    "gnb.fit(iris_X_train, iris_y_train)\n",
    "print( \"predict array:\" , gnb.predict(iris_X_test) )\n",
    "print( \"actual array: \", iris_y_test )\n",
    "print( accuracy_score( iris_y_test, gnb.predict( iris_X_test )) )"
   ]
  },
  {
   "cell_type": "markdown",
   "metadata": {},
   "source": [
    "##### 2.Tree"
   ]
  },
  {
   "cell_type": "code",
   "execution_count": 52,
   "metadata": {
    "collapsed": false
   },
   "outputs": [
    {
     "name": "stdout",
     "output_type": "stream",
     "text": [
      "predict array: [ 1.  1.  1.  0.  0.  0.  2.  1.  2.  0.]\n",
      "actual array:  [1 1 1 0 0 0 2 1 2 0]\n",
      "1.0\n"
     ]
    }
   ],
   "source": [
    "from sklearn import tree\n",
    "tr = tree.DecisionTreeRegressor()\n",
    "tr = tr.fit(iris_X, iris_y)\n",
    "print( \"predict array:\" , tr.predict(iris_X_test) )\n",
    "print( \"actual array: \", iris_y_test )\n",
    "print( accuracy_score( iris_y_test, tr.predict( iris_X_test )) )"
   ]
  },
  {
   "cell_type": "markdown",
   "metadata": {},
   "source": [
    "### Cross-validation"
   ]
  },
  {
   "cell_type": "code",
   "execution_count": 56,
   "metadata": {
    "collapsed": false
   },
   "outputs": [
    {
     "name": "stdout",
     "output_type": "stream",
     "text": [
      "k-nearest-neighbor cross-validation:\n",
      "[ 1.          0.93333333  1.          1.          0.91666667  0.91666667\n",
      "  0.91666667  0.91666667  1.          1.          1.          1.        ]\n",
      "the average accuracy: 0.966666666667\n",
      "Gaussian-naive-bayes cross-validation:\n",
      "[ 0.93333333  0.93333333  1.          1.          0.83333333  1.\n",
      "  0.91666667  0.91666667  0.91666667  1.          1.          1.        ]\n",
      "the average accuracy: 0.954166666667\n",
      "Gaussian-naive-bayes cross-validation:\n",
      "[ 1.          1.          1.          1.          0.92307692  0.84615385\n",
      "  0.91666667  1.          0.91666667  0.91666667  0.75        0.91666667]\n",
      "the average accuracy: 0.932158119658\n"
     ]
    }
   ],
   "source": [
    "from sklearn.cross_validation import cross_val_score\n",
    "\n",
    "# knn\n",
    "knn = KNeighborsClassifier()\n",
    "scores_knn = cross_val_score(knn, iris_X, iris_y, cv=12, scoring='accuracy')\n",
    "print(\"k-nearest-neighbor cross-validation:\")\n",
    "print(scores_knn)\n",
    "print(\"the average accuracy:\", scores_knn.mean())\n",
    "\n",
    "# gnb\n",
    "scores_gnb = cross_val_score(gnb, iris_X, iris_y, cv=12, scoring='accuracy')\n",
    "print(\"Gaussian-naive-bayes cross-validation:\")\n",
    "print(scores_gnb)\n",
    "print(\"the average accuracy:\", scores_gnb.mean())\n",
    "\n",
    "# tree\n",
    "scores_tree = cross_val_score(tr, iris_X, iris_y, cv=12, scoring='accuracy')\n",
    "print(\"Gaussian-naive-bayes cross-validation:\")\n",
    "print(scores_tree)\n",
    "print(\"the average accuracy:\", scores_tree.mean())"
   ]
  },
  {
   "cell_type": "markdown",
   "metadata": {},
   "source": [
    "### Comparison of classifiers"
   ]
  },
  {
   "cell_type": "markdown",
   "metadata": {},
   "source": [
    "##### With the mean accuracy of the three classifier, we can get the conclusion that:\n",
    "##### By default, the k-nearest-neighbor is the best classifier for the Iris flower data set compared with Tree and GaussianNB"
   ]
  },
  {
   "cell_type": "code",
   "execution_count": null,
   "metadata": {
    "collapsed": true
   },
   "outputs": [],
   "source": []
  }
 ],
 "metadata": {
  "kernelspec": {
   "display_name": "Python 3",
   "language": "python",
   "name": "python3"
  },
  "language_info": {
   "codemirror_mode": {
    "name": "ipython",
    "version": 3
   },
   "file_extension": ".py",
   "mimetype": "text/x-python",
   "name": "python",
   "nbconvert_exporter": "python",
   "pygments_lexer": "ipython3",
   "version": "3.6.0"
  }
 },
 "nbformat": 4,
 "nbformat_minor": 2
}
